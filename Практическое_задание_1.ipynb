{
  "nbformat": 4,
  "nbformat_minor": 0,
  "metadata": {
    "colab": {
      "provenance": []
    },
    "kernelspec": {
      "name": "python3",
      "display_name": "Python 3"
    },
    "language_info": {
      "name": "python"
    }
  },
  "cells": [
    {
      "cell_type": "code",
      "execution_count": null,
      "metadata": {
        "colab": {
          "base_uri": "https://localhost:8080/"
        },
        "id": "mNVMLs0RcpbM",
        "outputId": "21ca6924-b2ca-43c0-a364-190cdffed6a2"
      },
      "outputs": [
        {
          "output_type": "stream",
          "name": "stdout",
          "text": [
            "Обычный шоколадный батончик\n",
            "Шоколадный батончик, добавка: milk\n",
            "Шоколадный батончик, 10.0 рублей\n"
          ]
        }
      ],
      "source": [
        "class Chocolate:\n",
        "    def __init__(self, cost, topping=\"\"):\n",
        "        if type(cost) != float:\n",
        "            raise TypeError(\"Неверный тип\")\n",
        "        if cost < 0:\n",
        "            raise ValueError(\"Цена меньше либо равна нулю\")\n",
        "        self.cost = cost\n",
        "        self.topping = topping\n",
        "\n",
        "    def show_my_chocolate(self):\n",
        "        if self.topping != \"\":\n",
        "            print(f'Шоколадный батончик, добавка: {self.topping}')\n",
        "        else:\n",
        "            print(f'Обычный шоколадный батончик')\n",
        "        return\n",
        "    def __str__(self):\n",
        "        return f'Шоколадный батончик, {self.cost} рублей'\n",
        "\n",
        "\n",
        "choco1 = Chocolate(10.0)\n",
        "\n",
        "choco2 = Chocolate(10.0,\"milk\")\n",
        "\n",
        "choco1.show_my_chocolate()\n",
        "\n",
        "choco2.show_my_chocolate()\n",
        "\n",
        "print(choco1)\n",
        "\n"
      ]
    },
    {
      "cell_type": "code",
      "source": [
        "chocoExeption= Chocolate(10, \"\")"
      ],
      "metadata": {
        "colab": {
          "base_uri": "https://localhost:8080/",
          "height": 263
        },
        "id": "rEhPJy-Ufmxf",
        "outputId": "6c462df9-0e63-4196-a4b1-87cd645c13fb"
      },
      "execution_count": null,
      "outputs": [
        {
          "output_type": "error",
          "ename": "TypeError",
          "evalue": "Неверный тип",
          "traceback": [
            "\u001b[0;31m---------------------------------------------------------------------------\u001b[0m",
            "\u001b[0;31mTypeError\u001b[0m                                 Traceback (most recent call last)",
            "\u001b[0;32m<ipython-input-3-58cf053f3f11>\u001b[0m in \u001b[0;36m<cell line: 0>\u001b[0;34m()\u001b[0m\n\u001b[0;32m----> 1\u001b[0;31m \u001b[0mchocoExeption\u001b[0m\u001b[0;34m=\u001b[0m \u001b[0mChocolate\u001b[0m\u001b[0;34m(\u001b[0m\u001b[0;36m10\u001b[0m\u001b[0;34m,\u001b[0m \u001b[0;34m\"\"\u001b[0m\u001b[0;34m)\u001b[0m\u001b[0;34m\u001b[0m\u001b[0;34m\u001b[0m\u001b[0m\n\u001b[0m",
            "\u001b[0;32m<ipython-input-2-c165b38e980e>\u001b[0m in \u001b[0;36m__init__\u001b[0;34m(self, cost, topping)\u001b[0m\n\u001b[1;32m      2\u001b[0m     \u001b[0;32mdef\u001b[0m \u001b[0m__init__\u001b[0m\u001b[0;34m(\u001b[0m\u001b[0mself\u001b[0m\u001b[0;34m,\u001b[0m \u001b[0mcost\u001b[0m\u001b[0;34m,\u001b[0m \u001b[0mtopping\u001b[0m\u001b[0;34m=\u001b[0m\u001b[0;34m\"\"\u001b[0m\u001b[0;34m)\u001b[0m\u001b[0;34m:\u001b[0m\u001b[0;34m\u001b[0m\u001b[0;34m\u001b[0m\u001b[0m\n\u001b[1;32m      3\u001b[0m         \u001b[0;32mif\u001b[0m \u001b[0mtype\u001b[0m\u001b[0;34m(\u001b[0m\u001b[0mcost\u001b[0m\u001b[0;34m)\u001b[0m \u001b[0;34m!=\u001b[0m \u001b[0mfloat\u001b[0m\u001b[0;34m:\u001b[0m\u001b[0;34m\u001b[0m\u001b[0;34m\u001b[0m\u001b[0m\n\u001b[0;32m----> 4\u001b[0;31m             \u001b[0;32mraise\u001b[0m \u001b[0mTypeError\u001b[0m\u001b[0;34m(\u001b[0m\u001b[0;34m\"Неверный тип\"\u001b[0m\u001b[0;34m)\u001b[0m\u001b[0;34m\u001b[0m\u001b[0;34m\u001b[0m\u001b[0m\n\u001b[0m\u001b[1;32m      5\u001b[0m         \u001b[0;32mif\u001b[0m \u001b[0mcost\u001b[0m \u001b[0;34m<\u001b[0m \u001b[0;36m0\u001b[0m\u001b[0;34m:\u001b[0m\u001b[0;34m\u001b[0m\u001b[0;34m\u001b[0m\u001b[0m\n\u001b[1;32m      6\u001b[0m             \u001b[0;32mraise\u001b[0m \u001b[0mValueError\u001b[0m\u001b[0;34m(\u001b[0m\u001b[0;34m\"Цена меньше либо равна нулю\"\u001b[0m\u001b[0;34m)\u001b[0m\u001b[0;34m\u001b[0m\u001b[0;34m\u001b[0m\u001b[0m\n",
            "\u001b[0;31mTypeError\u001b[0m: Неверный тип"
          ]
        }
      ]
    }
  ]
}